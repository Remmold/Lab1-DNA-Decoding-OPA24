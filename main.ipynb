{
 "cells": [
  {
   "cell_type": "code",
   "execution_count": null,
   "metadata": {},
   "outputs": [
    {
     "name": "stdout",
     "output_type": "stream",
     "text": [
      "gcggatttactcaggggagagcccagggataaatggagtctgtgcgtccaca\n",
      "gaattcgcacca\n",
      "cgtaaccaataaaaaaacaagcttaacctaattc\n",
      "agcttagtttggatctggccgggg\n",
      "gcggatttactccccccaaaaannaggggagagcccagataaatggagtctgtgcgtccacagaattcgcaccaaataaaacctcacccatagagcccagaatttactcccc\n",
      "4\n"
     ]
    }
   ],
   "source": [
    "\n",
    "ls = []\n",
    "with open(\"./dna_raw_files/dna_raw_complicated.txt\") as file1:\n",
    "    for line in file1:\n",
    "        if line.__contains__(\">\"):\n",
    "            ls.append(string)\n",
    "            string = \"\"\n",
    "\n",
    "        else:\n",
    "            string += line.lower().strip()\n",
    "\n",
    "\n",
    "print(ls[0])\n",
    "print(ls[1])\n",
    "print(ls[2])\n",
    "print(ls[3])\n",
    "print(len(ls))\n",
    "\n",
    "\n",
    "\n",
    "\n"
   ]
  }
 ],
 "metadata": {
  "kernelspec": {
   "display_name": ".venv",
   "language": "python",
   "name": "python3"
  },
  "language_info": {
   "codemirror_mode": {
    "name": "ipython",
    "version": 3
   },
   "file_extension": ".py",
   "mimetype": "text/x-python",
   "name": "python",
   "nbconvert_exporter": "python",
   "pygments_lexer": "ipython3",
   "version": "3.13.2"
  }
 },
 "nbformat": 4,
 "nbformat_minor": 2
}
