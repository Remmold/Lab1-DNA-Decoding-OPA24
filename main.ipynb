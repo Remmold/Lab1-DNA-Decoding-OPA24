{
 "cells": [
  {
   "cell_type": "code",
   "execution_count": 33,
   "metadata": {},
   "outputs": [
    {
     "name": "stdout",
     "output_type": "stream",
     "text": [
      "gcggatttactcaggggagagcccagggataaatggagtctgtgcgtccacagaattcgcacca\n",
      "cgtaaccaataaaaaaacaagcttaacctaattc\n",
      "agcttagtttggatctggccgggg\n",
      "gcggatttactccccccaaaaannaggggagagcccagataaatggagtctgtgcgtccacagaattcgcaccaaataaaacctcacccatagagcccagaatttactcccc\n",
      "4\n"
     ]
    }
   ],
   "source": [
    "\n",
    "ls = []\n",
    "\n",
    "with open(\"./dna_raw_files/dna_raw_complicated.txt\") as file1:\n",
    "    for line in file1:\n",
    "        if line.__contains__(\">\"):\n",
    "            ls.append(string)\n",
    "            string = \"\"\n",
    "\n",
    "        else:\n",
    "            string += line.lower().strip()\n",
    "\n",
    "\n",
    "print(ls[0])\n",
    "print(ls[1])\n",
    "print(ls[2])\n",
    "print(ls[3])\n",
    "print(len(ls))\n",
    "\n",
    "\n",
    "#\"\".join([x for x in string if x == \"g\" or x == \"c\" or x == \"t\" or x == \"a\"]\n",
    "\n"
   ]
  }
 ],
 "metadata": {
  "kernelspec": {
   "display_name": ".venv",
   "language": "python",
   "name": "python3"
  },
  "language_info": {
   "codemirror_mode": {
    "name": "ipython",
    "version": 3
   },
   "file_extension": ".py",
   "mimetype": "text/x-python",
   "name": "python",
   "nbconvert_exporter": "python",
   "pygments_lexer": "ipython3",
   "version": "3.13.2"
  }
 },
 "nbformat": 4,
 "nbformat_minor": 2
}
